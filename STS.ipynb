{
  "nbformat": 4,
  "nbformat_minor": 0,
  "metadata": {
    "colab": {
      "provenance": [],
      "machine_shape": "hm"
    },
    "kernelspec": {
      "name": "python3",
      "display_name": "Python 3"
    },
    "language_info": {
      "name": "python"
    },
    "accelerator": "GPU",
    "gpuClass": "premium"
  },
  "cells": [
    {
      "cell_type": "code",
      "execution_count": null,
      "metadata": {
        "colab": {
          "base_uri": "https://localhost:8080/"
        },
        "id": "mG8je5LhMiEu",
        "outputId": "95b9aede-8a25-456f-f76a-c21bf8014c49"
      },
      "outputs": [
        {
          "output_type": "stream",
          "name": "stdout",
          "text": [
            "Mounted at /content/drive\n"
          ]
        }
      ],
      "source": [
        "from google.colab import drive\n",
        "drive.mount('/content/drive')\n",
        "\n",
        "import os\n",
        "\n",
        "folder_path = \"/content/drive/MyDrive/IFT6289_final_project\"\n",
        "\n",
        "#将作业文件夹链接到名为 /content/project 的新文件夹。该命令使用 ln -Ts 命令将作业文件夹的符号链接链接到 Colab 上的新文件夹。这将使您能够在\n",
        "!ln -Ts \"$folder_path\" /content/project 2> /dev/null\n",
        "\n",
        "import sys\n",
        "\n",
        "# Add the assignment folder to Python path\n",
        "if '/content/project' not in sys.path:\n",
        "  sys.path.insert(0, '/content/project')\n"
      ]
    },
    {
      "cell_type": "code",
      "source": [
        "!pip install torch torchvision -U\n",
        "!pip install tqdm==4.58.0\n",
        "!pip install requests==2.25.1\n",
        "!pip install importlib-metadata==3.7.0\n",
        "!pip install filelock==3.0.12\n",
        "!pip install sklearn==0.0\n",
        "!pip install tokenizers\n",
        "!pip install explainaboard_client==0.0.7"
      ],
      "metadata": {
        "colab": {
          "base_uri": "https://localhost:8080/"
        },
        "id": "VhFP3oHjMmx_",
        "outputId": "d0a1639a-4bd1-4a73-9457-16d7afea4bab"
      },
      "execution_count": null,
      "outputs": [
        {
          "output_type": "stream",
          "name": "stdout",
          "text": [
            "Looking in indexes: https://pypi.org/simple, https://us-python.pkg.dev/colab-wheels/public/simple/\n",
            "Requirement already satisfied: torch in /usr/local/lib/python3.10/dist-packages (2.0.0+cu118)\n",
            "Requirement already satisfied: torchvision in /usr/local/lib/python3.10/dist-packages (0.15.1+cu118)\n",
            "Requirement already satisfied: sympy in /usr/local/lib/python3.10/dist-packages (from torch) (1.11.1)\n",
            "Requirement already satisfied: triton==2.0.0 in /usr/local/lib/python3.10/dist-packages (from torch) (2.0.0)\n",
            "Requirement already satisfied: networkx in /usr/local/lib/python3.10/dist-packages (from torch) (3.1)\n",
            "Requirement already satisfied: jinja2 in /usr/local/lib/python3.10/dist-packages (from torch) (3.1.2)\n",
            "Requirement already satisfied: filelock in /usr/local/lib/python3.10/dist-packages (from torch) (3.12.0)\n",
            "Requirement already satisfied: typing-extensions in /usr/local/lib/python3.10/dist-packages (from torch) (4.5.0)\n",
            "Requirement already satisfied: lit in /usr/local/lib/python3.10/dist-packages (from triton==2.0.0->torch) (16.0.2)\n",
            "Requirement already satisfied: cmake in /usr/local/lib/python3.10/dist-packages (from triton==2.0.0->torch) (3.25.2)\n",
            "Requirement already satisfied: numpy in /usr/local/lib/python3.10/dist-packages (from torchvision) (1.22.4)\n",
            "Requirement already satisfied: pillow!=8.3.*,>=5.3.0 in /usr/local/lib/python3.10/dist-packages (from torchvision) (8.4.0)\n",
            "Requirement already satisfied: requests in /usr/local/lib/python3.10/dist-packages (from torchvision) (2.27.1)\n",
            "Requirement already satisfied: MarkupSafe>=2.0 in /usr/local/lib/python3.10/dist-packages (from jinja2->torch) (2.1.2)\n",
            "Requirement already satisfied: idna<4,>=2.5 in /usr/local/lib/python3.10/dist-packages (from requests->torchvision) (3.4)\n",
            "Requirement already satisfied: certifi>=2017.4.17 in /usr/local/lib/python3.10/dist-packages (from requests->torchvision) (2022.12.7)\n",
            "Requirement already satisfied: charset-normalizer~=2.0.0 in /usr/local/lib/python3.10/dist-packages (from requests->torchvision) (2.0.12)\n",
            "Requirement already satisfied: urllib3<1.27,>=1.21.1 in /usr/local/lib/python3.10/dist-packages (from requests->torchvision) (1.26.15)\n",
            "Requirement already satisfied: mpmath>=0.19 in /usr/local/lib/python3.10/dist-packages (from sympy->torch) (1.3.0)\n",
            "Looking in indexes: https://pypi.org/simple, https://us-python.pkg.dev/colab-wheels/public/simple/\n",
            "Collecting tqdm==4.58.0\n",
            "  Downloading tqdm-4.58.0-py2.py3-none-any.whl (73 kB)\n",
            "\u001b[2K     \u001b[90m━━━━━━━━━━━━━━━━━━━━━━━━━━━━━━━━━━━━━━━━\u001b[0m \u001b[32m73.2/73.2 kB\u001b[0m \u001b[31m3.3 MB/s\u001b[0m eta \u001b[36m0:00:00\u001b[0m\n",
            "\u001b[?25hInstalling collected packages: tqdm\n",
            "  Attempting uninstall: tqdm\n",
            "    Found existing installation: tqdm 4.65.0\n",
            "    Uninstalling tqdm-4.65.0:\n",
            "      Successfully uninstalled tqdm-4.65.0\n",
            "Successfully installed tqdm-4.58.0\n",
            "Looking in indexes: https://pypi.org/simple, https://us-python.pkg.dev/colab-wheels/public/simple/\n",
            "Collecting requests==2.25.1\n",
            "  Downloading requests-2.25.1-py2.py3-none-any.whl (61 kB)\n",
            "\u001b[2K     \u001b[90m━━━━━━━━━━━━━━━━━━━━━━━━━━━━━━━━━━━━━━━━\u001b[0m \u001b[32m61.2/61.2 kB\u001b[0m \u001b[31m3.0 MB/s\u001b[0m eta \u001b[36m0:00:00\u001b[0m\n",
            "\u001b[?25hRequirement already satisfied: certifi>=2017.4.17 in /usr/local/lib/python3.10/dist-packages (from requests==2.25.1) (2022.12.7)\n",
            "Collecting idna<3,>=2.5\n",
            "  Downloading idna-2.10-py2.py3-none-any.whl (58 kB)\n",
            "\u001b[2K     \u001b[90m━━━━━━━━━━━━━━━━━━━━━━━━━━━━━━━━━━━━━━━━\u001b[0m \u001b[32m58.8/58.8 kB\u001b[0m \u001b[31m8.2 MB/s\u001b[0m eta \u001b[36m0:00:00\u001b[0m\n",
            "\u001b[?25hRequirement already satisfied: chardet<5,>=3.0.2 in /usr/local/lib/python3.10/dist-packages (from requests==2.25.1) (4.0.0)\n",
            "Requirement already satisfied: urllib3<1.27,>=1.21.1 in /usr/local/lib/python3.10/dist-packages (from requests==2.25.1) (1.26.15)\n",
            "Installing collected packages: idna, requests\n",
            "  Attempting uninstall: idna\n",
            "    Found existing installation: idna 3.4\n",
            "    Uninstalling idna-3.4:\n",
            "      Successfully uninstalled idna-3.4\n",
            "  Attempting uninstall: requests\n",
            "    Found existing installation: requests 2.27.1\n",
            "    Uninstalling requests-2.27.1:\n",
            "      Successfully uninstalled requests-2.27.1\n",
            "\u001b[31mERROR: pip's dependency resolver does not currently take into account all the packages that are installed. This behaviour is the source of the following dependency conflicts.\n",
            "yfinance 0.2.18 requires requests>=2.26, but you have requests 2.25.1 which is incompatible.\n",
            "tweepy 4.13.0 requires requests<3,>=2.27.0, but you have requests 2.25.1 which is incompatible.\n",
            "google-colab 1.0.0 requires requests>=2.27.0, but you have requests 2.25.1 which is incompatible.\u001b[0m\u001b[31m\n",
            "\u001b[0mSuccessfully installed idna-2.10 requests-2.25.1\n",
            "Looking in indexes: https://pypi.org/simple, https://us-python.pkg.dev/colab-wheels/public/simple/\n",
            "Collecting importlib-metadata==3.7.0\n",
            "  Downloading importlib_metadata-3.7.0-py3-none-any.whl (11 kB)\n",
            "Requirement already satisfied: zipp>=0.5 in /usr/local/lib/python3.10/dist-packages (from importlib-metadata==3.7.0) (3.15.0)\n",
            "Installing collected packages: importlib-metadata\n",
            "  Attempting uninstall: importlib-metadata\n",
            "    Found existing installation: importlib-metadata 6.6.0\n",
            "    Uninstalling importlib-metadata-6.6.0:\n",
            "      Successfully uninstalled importlib-metadata-6.6.0\n",
            "Successfully installed importlib-metadata-3.7.0\n",
            "Looking in indexes: https://pypi.org/simple, https://us-python.pkg.dev/colab-wheels/public/simple/\n",
            "Collecting filelock==3.0.12\n",
            "  Downloading filelock-3.0.12-py3-none-any.whl (7.6 kB)\n",
            "Installing collected packages: filelock\n",
            "  Attempting uninstall: filelock\n",
            "    Found existing installation: filelock 3.12.0\n",
            "    Uninstalling filelock-3.12.0:\n",
            "      Successfully uninstalled filelock-3.12.0\n",
            "Successfully installed filelock-3.0.12\n",
            "Looking in indexes: https://pypi.org/simple, https://us-python.pkg.dev/colab-wheels/public/simple/\n",
            "Collecting sklearn==0.0\n",
            "  Downloading sklearn-0.0.tar.gz (1.1 kB)\n",
            "  Preparing metadata (setup.py) ... \u001b[?25l\u001b[?25hdone\n",
            "Requirement already satisfied: scikit-learn in /usr/local/lib/python3.10/dist-packages (from sklearn==0.0) (1.2.2)\n",
            "Requirement already satisfied: threadpoolctl>=2.0.0 in /usr/local/lib/python3.10/dist-packages (from scikit-learn->sklearn==0.0) (3.1.0)\n",
            "Requirement already satisfied: scipy>=1.3.2 in /usr/local/lib/python3.10/dist-packages (from scikit-learn->sklearn==0.0) (1.10.1)\n",
            "Requirement already satisfied: numpy>=1.17.3 in /usr/local/lib/python3.10/dist-packages (from scikit-learn->sklearn==0.0) (1.22.4)\n",
            "Requirement already satisfied: joblib>=1.1.1 in /usr/local/lib/python3.10/dist-packages (from scikit-learn->sklearn==0.0) (1.2.0)\n",
            "Building wheels for collected packages: sklearn\n",
            "  Building wheel for sklearn (setup.py) ... \u001b[?25l\u001b[?25hdone\n",
            "  Created wheel for sklearn: filename=sklearn-0.0-py2.py3-none-any.whl size=1309 sha256=37492e728bb8cac2413326d79de87f5a3e402aa6c1b3143cb292dc2253035e8c\n",
            "  Stored in directory: /root/.cache/pip/wheels/9b/13/01/6f3a7fd641f90e1f6c8c7cded057f3394f451f340371c68f3d\n",
            "Successfully built sklearn\n",
            "Installing collected packages: sklearn\n",
            "Successfully installed sklearn-0.0\n",
            "Looking in indexes: https://pypi.org/simple, https://us-python.pkg.dev/colab-wheels/public/simple/\n",
            "Collecting tokenizers\n",
            "  Downloading tokenizers-0.13.3-cp310-cp310-manylinux_2_17_x86_64.manylinux2014_x86_64.whl (7.8 MB)\n",
            "\u001b[2K     \u001b[90m━━━━━━━━━━━━━━━━━━━━━━━━━━━━━━━━━━━━━━━━\u001b[0m \u001b[32m7.8/7.8 MB\u001b[0m \u001b[31m55.6 MB/s\u001b[0m eta \u001b[36m0:00:00\u001b[0m\n",
            "\u001b[?25hInstalling collected packages: tokenizers\n",
            "Successfully installed tokenizers-0.13.3\n",
            "Looking in indexes: https://pypi.org/simple, https://us-python.pkg.dev/colab-wheels/public/simple/\n",
            "Collecting explainaboard_client==0.0.7\n",
            "  Downloading explainaboard_client-0.0.7-py2.py3-none-any.whl (16 kB)\n",
            "Requirement already satisfied: tqdm in /usr/local/lib/python3.10/dist-packages (from explainaboard_client==0.0.7) (4.58.0)\n",
            "Collecting explainaboard-api-client>=0.2.0\n",
            "  Downloading explainaboard_api_client-0.4.3-py2.py3-none-any.whl (184 kB)\n",
            "\u001b[2K     \u001b[90m━━━━━━━━━━━━━━━━━━━━━━━━━━━━━━━━━━━━━━━\u001b[0m \u001b[32m184.7/184.7 kB\u001b[0m \u001b[31m6.1 MB/s\u001b[0m eta \u001b[36m0:00:00\u001b[0m\n",
            "\u001b[?25hRequirement already satisfied: urllib3>=1.25.3 in /usr/local/lib/python3.10/dist-packages (from explainaboard-api-client>=0.2.0->explainaboard_client==0.0.7) (1.26.15)\n",
            "Requirement already satisfied: python-dateutil in /usr/local/lib/python3.10/dist-packages (from explainaboard-api-client>=0.2.0->explainaboard_client==0.0.7) (2.8.2)\n",
            "Requirement already satisfied: six>=1.5 in /usr/local/lib/python3.10/dist-packages (from python-dateutil->explainaboard-api-client>=0.2.0->explainaboard_client==0.0.7) (1.16.0)\n",
            "Installing collected packages: explainaboard-api-client, explainaboard_client\n",
            "Successfully installed explainaboard-api-client-0.4.3 explainaboard_client-0.0.7\n"
          ]
        }
      ]
    },
    {
      "cell_type": "markdown",
      "source": [
        "## Use cos-similarity"
      ],
      "metadata": {
        "id": "W-W83geQtWi6"
      }
    },
    {
      "cell_type": "code",
      "source": [
        "!python3 /content/project/semantic_similarity.py --option finetune --epochs 10 --lr 1e-5 --batch_size 64 --hidden_dropout_prob 0.3 --use_gpu\n"
      ],
      "metadata": {
        "colab": {
          "base_uri": "https://localhost:8080/"
        },
        "id": "aM6eEPYhMpBO",
        "outputId": "6e5a87dc-a19d-43d6-9e57-3677e296f0fd"
      },
      "execution_count": null,
      "outputs": [
        {
          "output_type": "stream",
          "name": "stdout",
          "text": [
            "Loaded 8544 train examples from /content/project/data/ids-sst-train.csv\n",
            "Loaded 141498 train examples from /content/project/data/quora-train.csv\n",
            "Loaded 6040 train examples from /content/project/data/sts-train.csv\n",
            "Loaded 1101 train examples from /content/project/data/ids-sst-dev.csv\n",
            "Loaded 20212 train examples from /content/project/data/quora-dev.csv\n",
            "Loaded 863 train examples from /content/project/data/sts-dev.csv\n",
            "100% 95/95 [00:21<00:00,  4.35it/s]\n",
            "Semantic Textual Similarity correlation: 0.118\n",
            "Epoch 1/10, Loss: 0.5056099828920866, Similarity: 0.118.\n",
            "100% 95/95 [00:21<00:00,  4.42it/s]\n",
            "Semantic Textual Similarity correlation: 0.204\n",
            "Epoch 2/10, Loss: 0.4380788483117756, Similarity: 0.204.\n",
            "100% 95/95 [00:21<00:00,  4.41it/s]\n",
            "Semantic Textual Similarity correlation: 0.310\n",
            "Epoch 3/10, Loss: 0.3944455291095533, Similarity: 0.310.\n",
            "100% 95/95 [00:21<00:00,  4.39it/s]\n",
            "Semantic Textual Similarity correlation: 0.335\n",
            "Epoch 4/10, Loss: 0.3470127905669965, Similarity: 0.335.\n",
            "100% 95/95 [00:21<00:00,  4.40it/s]\n",
            "Semantic Textual Similarity correlation: 0.376\n",
            "Epoch 5/10, Loss: 0.3202614552096317, Similarity: 0.376.\n",
            "100% 95/95 [00:21<00:00,  4.41it/s]\n",
            "Semantic Textual Similarity correlation: 0.413\n",
            "Epoch 6/10, Loss: 0.29594144209435114, Similarity: 0.413.\n",
            "100% 95/95 [00:21<00:00,  4.39it/s]\n",
            "Semantic Textual Similarity correlation: 0.435\n",
            "Epoch 7/10, Loss: 0.26293655602555527, Similarity: 0.435.\n",
            "100% 95/95 [00:21<00:00,  4.42it/s]\n",
            "Semantic Textual Similarity correlation: 0.422\n",
            "Epoch 8/10, Loss: 0.24462316146022395, Similarity: 0.422.\n",
            "100% 95/95 [00:21<00:00,  4.43it/s]\n",
            "Semantic Textual Similarity correlation: 0.453\n",
            "Epoch 9/10, Loss: 0.21772331752275165, Similarity: 0.453.\n",
            "100% 95/95 [00:21<00:00,  4.38it/s]\n",
            "Semantic Textual Similarity correlation: 0.454\n",
            "Epoch 10/10, Loss: 0.20670675180460277, Similarity: 0.454.\n"
          ]
        }
      ]
    },
    {
      "cell_type": "markdown",
      "source": [
        "##Use not cos-similarity(just linear layer)"
      ],
      "metadata": {
        "id": "xAVaA3eytbSX"
      }
    },
    {
      "cell_type": "code",
      "source": [
        "!python3 /content/project/semantic_similarity_v2.py --option finetune --epochs 10 --lr 1e-5 --batch_size 64 --hidden_dropout_prob 0.3 --use_gpu\n"
      ],
      "metadata": {
        "id": "yjss7MHvk0nK",
        "colab": {
          "base_uri": "https://localhost:8080/"
        },
        "outputId": "5f88e738-03ea-4924-a944-74736f40a88c"
      },
      "execution_count": null,
      "outputs": [
        {
          "output_type": "stream",
          "name": "stdout",
          "text": [
            "Loaded 8544 train examples from /content/project/data/ids-sst-train.csv\n",
            "Loaded 141498 train examples from /content/project/data/quora-train.csv\n",
            "Loaded 6040 train examples from /content/project/data/sts-train.csv\n",
            "Loaded 1101 train examples from /content/project/data/ids-sst-dev.csv\n",
            "Loaded 20212 train examples from /content/project/data/quora-dev.csv\n",
            "Loaded 863 train examples from /content/project/data/sts-dev.csv\n",
            "Semantic Textual Similarity correlation: 0.251\n",
            "Epoch 1/10, Loss: 2.8604957241761055, Similarity: 0.251.\n",
            "Semantic Textual Similarity correlation: 0.339\n",
            "Epoch 2/10, Loss: 2.0959444221697354, Similarity: 0.339.\n",
            "Semantic Textual Similarity correlation: 0.356\n",
            "Epoch 3/10, Loss: 1.967649971811395, Similarity: 0.356.\n",
            "Semantic Textual Similarity correlation: 0.377\n",
            "Epoch 4/10, Loss: 1.807491720350165, Similarity: 0.377.\n",
            "Semantic Textual Similarity correlation: 0.346\n",
            "Epoch 5/10, Loss: 1.6577478371168437, Similarity: 0.346.\n",
            "Semantic Textual Similarity correlation: 0.385\n",
            "Epoch 6/10, Loss: 1.4826177609594244, Similarity: 0.385.\n",
            "Semantic Textual Similarity correlation: 0.369\n",
            "Epoch 7/10, Loss: 1.2796493530273438, Similarity: 0.369.\n",
            "Semantic Textual Similarity correlation: 0.357\n",
            "Epoch 8/10, Loss: 1.060921805783322, Similarity: 0.357.\n",
            "Semantic Textual Similarity correlation: 0.341\n",
            "Epoch 9/10, Loss: 0.8797442869136208, Similarity: 0.341.\n",
            "Semantic Textual Similarity correlation: 0.343\n",
            "Epoch 10/10, Loss: 0.7180777254857516, Similarity: 0.343.\n"
          ]
        }
      ]
    }
  ]
}